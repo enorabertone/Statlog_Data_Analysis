{
 "cells": [
  {
   "cell_type": "markdown",
   "metadata": {},
   "source": [
    "# Python Final Project (Statlog Data Set)"
   ]
  },
  {
   "cell_type": "markdown",
   "metadata": {},
   "source": [
    "## Preparation "
   ]
  },
  {
   "cell_type": "code",
   "execution_count": 129,
   "metadata": {},
   "outputs": [
    {
     "ename": "ModuleNotFoundError",
     "evalue": "No module named 'pandas_profiling'",
     "output_type": "error",
     "traceback": [
      "\u001b[1;31m---------------------------------------------------------------------------\u001b[0m",
      "\u001b[1;31mModuleNotFoundError\u001b[0m                       Traceback (most recent call last)",
      "\u001b[1;32m<ipython-input-129-af74cc9d45f7>\u001b[0m in \u001b[0;36m<module>\u001b[1;34m\u001b[0m\n\u001b[0;32m     11\u001b[0m \u001b[1;32mfrom\u001b[0m \u001b[0msklearn\u001b[0m\u001b[1;33m.\u001b[0m\u001b[0mcluster\u001b[0m \u001b[1;32mimport\u001b[0m \u001b[0mKMeans\u001b[0m\u001b[1;33m\u001b[0m\u001b[1;33m\u001b[0m\u001b[0m\n\u001b[0;32m     12\u001b[0m \u001b[1;32mfrom\u001b[0m \u001b[0msklearn\u001b[0m\u001b[1;33m.\u001b[0m\u001b[0mmetrics\u001b[0m \u001b[1;32mimport\u001b[0m \u001b[0maccuracy_score\u001b[0m\u001b[1;33m\u001b[0m\u001b[1;33m\u001b[0m\u001b[0m\n\u001b[1;32m---> 13\u001b[1;33m \u001b[1;32mfrom\u001b[0m \u001b[0mpandas_profiling\u001b[0m \u001b[1;32mimport\u001b[0m \u001b[0mProfileReport\u001b[0m\u001b[1;33m\u001b[0m\u001b[1;33m\u001b[0m\u001b[0m\n\u001b[0m",
      "\u001b[1;31mModuleNotFoundError\u001b[0m: No module named 'pandas_profiling'"
     ]
    }
   ],
   "source": [
    "# Import the necessary library\n",
    "import os\n",
    "import pandas as pd\n",
    "from sklearn.model_selection import train_test_split\n",
    "from sklearn.preprocessing import StandardScaler\n",
    "from sklearn.tree import DecisionTreeClassifier\n",
    "from sklearn.naive_bayes import GaussianNB\n",
    "from sklearn.ensemble import RandomForestRegressor\n",
    "from sklearn import svm\n",
    "from matplotlib import pyplot as plt\n",
    "from sklearn.cluster import KMeans\n",
    "from sklearn.metrics import accuracy_score\n",
    "from pandas_profiling import ProfileReport"
   ]
  },
  {
   "cell_type": "code",
   "execution_count": 103,
   "metadata": {},
   "outputs": [],
   "source": [
    "# Path to our training set\n",
    "path = \"D:/A4_ESILV/Python/Final_Project/sat.trn\""
   ]
  },
  {
   "cell_type": "code",
   "execution_count": 104,
   "metadata": {},
   "outputs": [],
   "source": [
    "# Verify the path existence\n",
    "assert(os.path.isfile(path))"
   ]
  },
  {
   "cell_type": "code",
   "execution_count": 105,
   "metadata": {},
   "outputs": [],
   "source": [
    "# Dataframe creation\n",
    "df = pd.read_csv(path,sep = \"\\s+\", header=None)"
   ]
  },
  {
   "cell_type": "code",
   "execution_count": 106,
   "metadata": {},
   "outputs": [
    {
     "data": {
      "text/html": [
       "<div>\n",
       "<style scoped>\n",
       "    .dataframe tbody tr th:only-of-type {\n",
       "        vertical-align: middle;\n",
       "    }\n",
       "\n",
       "    .dataframe tbody tr th {\n",
       "        vertical-align: top;\n",
       "    }\n",
       "\n",
       "    .dataframe thead th {\n",
       "        text-align: right;\n",
       "    }\n",
       "</style>\n",
       "<table border=\"1\" class=\"dataframe\">\n",
       "  <thead>\n",
       "    <tr style=\"text-align: right;\">\n",
       "      <th></th>\n",
       "      <th>0</th>\n",
       "      <th>1</th>\n",
       "      <th>2</th>\n",
       "      <th>3</th>\n",
       "      <th>4</th>\n",
       "      <th>5</th>\n",
       "      <th>6</th>\n",
       "      <th>7</th>\n",
       "      <th>8</th>\n",
       "      <th>9</th>\n",
       "      <th>...</th>\n",
       "      <th>27</th>\n",
       "      <th>28</th>\n",
       "      <th>29</th>\n",
       "      <th>30</th>\n",
       "      <th>31</th>\n",
       "      <th>32</th>\n",
       "      <th>33</th>\n",
       "      <th>34</th>\n",
       "      <th>35</th>\n",
       "      <th>36</th>\n",
       "    </tr>\n",
       "  </thead>\n",
       "  <tbody>\n",
       "    <tr>\n",
       "      <th>count</th>\n",
       "      <td>4435</td>\n",
       "      <td>4435</td>\n",
       "      <td>4435</td>\n",
       "      <td>4435</td>\n",
       "      <td>4435</td>\n",
       "      <td>4435</td>\n",
       "      <td>4435</td>\n",
       "      <td>4435</td>\n",
       "      <td>4435</td>\n",
       "      <td>4435</td>\n",
       "      <td>...</td>\n",
       "      <td>4435</td>\n",
       "      <td>4435</td>\n",
       "      <td>4435</td>\n",
       "      <td>4435</td>\n",
       "      <td>4435</td>\n",
       "      <td>4435</td>\n",
       "      <td>4435</td>\n",
       "      <td>4435</td>\n",
       "      <td>4435</td>\n",
       "      <td>4435</td>\n",
       "    </tr>\n",
       "    <tr>\n",
       "      <th>unique</th>\n",
       "      <td>1</td>\n",
       "      <td>1</td>\n",
       "      <td>1</td>\n",
       "      <td>1</td>\n",
       "      <td>1</td>\n",
       "      <td>1</td>\n",
       "      <td>1</td>\n",
       "      <td>1</td>\n",
       "      <td>1</td>\n",
       "      <td>1</td>\n",
       "      <td>...</td>\n",
       "      <td>1</td>\n",
       "      <td>1</td>\n",
       "      <td>1</td>\n",
       "      <td>1</td>\n",
       "      <td>1</td>\n",
       "      <td>1</td>\n",
       "      <td>1</td>\n",
       "      <td>1</td>\n",
       "      <td>1</td>\n",
       "      <td>1</td>\n",
       "    </tr>\n",
       "    <tr>\n",
       "      <th>top</th>\n",
       "      <td>False</td>\n",
       "      <td>False</td>\n",
       "      <td>False</td>\n",
       "      <td>False</td>\n",
       "      <td>False</td>\n",
       "      <td>False</td>\n",
       "      <td>False</td>\n",
       "      <td>False</td>\n",
       "      <td>False</td>\n",
       "      <td>False</td>\n",
       "      <td>...</td>\n",
       "      <td>False</td>\n",
       "      <td>False</td>\n",
       "      <td>False</td>\n",
       "      <td>False</td>\n",
       "      <td>False</td>\n",
       "      <td>False</td>\n",
       "      <td>False</td>\n",
       "      <td>False</td>\n",
       "      <td>False</td>\n",
       "      <td>False</td>\n",
       "    </tr>\n",
       "    <tr>\n",
       "      <th>freq</th>\n",
       "      <td>4435</td>\n",
       "      <td>4435</td>\n",
       "      <td>4435</td>\n",
       "      <td>4435</td>\n",
       "      <td>4435</td>\n",
       "      <td>4435</td>\n",
       "      <td>4435</td>\n",
       "      <td>4435</td>\n",
       "      <td>4435</td>\n",
       "      <td>4435</td>\n",
       "      <td>...</td>\n",
       "      <td>4435</td>\n",
       "      <td>4435</td>\n",
       "      <td>4435</td>\n",
       "      <td>4435</td>\n",
       "      <td>4435</td>\n",
       "      <td>4435</td>\n",
       "      <td>4435</td>\n",
       "      <td>4435</td>\n",
       "      <td>4435</td>\n",
       "      <td>4435</td>\n",
       "    </tr>\n",
       "  </tbody>\n",
       "</table>\n",
       "<p>4 rows × 37 columns</p>\n",
       "</div>"
      ],
      "text/plain": [
       "           0      1      2      3      4      5      6      7      8      9   \\\n",
       "count    4435   4435   4435   4435   4435   4435   4435   4435   4435   4435   \n",
       "unique      1      1      1      1      1      1      1      1      1      1   \n",
       "top     False  False  False  False  False  False  False  False  False  False   \n",
       "freq     4435   4435   4435   4435   4435   4435   4435   4435   4435   4435   \n",
       "\n",
       "        ...       27     28     29     30     31     32     33     34     35  \\\n",
       "count   ...     4435   4435   4435   4435   4435   4435   4435   4435   4435   \n",
       "unique  ...        1      1      1      1      1      1      1      1      1   \n",
       "top     ...    False  False  False  False  False  False  False  False  False   \n",
       "freq    ...     4435   4435   4435   4435   4435   4435   4435   4435   4435   \n",
       "\n",
       "           36  \n",
       "count    4435  \n",
       "unique      1  \n",
       "top     False  \n",
       "freq     4435  \n",
       "\n",
       "[4 rows x 37 columns]"
      ]
     },
     "execution_count": 106,
     "metadata": {},
     "output_type": "execute_result"
    }
   ],
   "source": [
    "# Check is we have missing value\n",
    "df.isna().describe()\n",
    "\n",
    "#There is no missing value which is pretty great"
   ]
  },
  {
   "cell_type": "code",
   "execution_count": 107,
   "metadata": {},
   "outputs": [],
   "source": [
    "# Adding columns detailling nzme\n",
    "df.columns = [\n",
    "             'TLP/SB1', 'TLP/SB2', 'TLP/SB3', 'TLP/SB4', #Top Left Pixel Spectral Band\n",
    "             'TMP/SB1', 'TMP/SB2', 'TMP/SB3', 'TMP/SB4', #Top Middle Pixel Spectral Band\n",
    "             'TRP/SB1', 'TRP/SB2', 'TRP/SB3', 'TRP/SB4', #Top Right Pixel Spectral Band\n",
    "             \n",
    "             'MLP/SB1', 'MLP/SB2', 'MLP/SB3', 'MLP/SB4', #Middle Left Pixel Spectral Band\n",
    "             'MMP/SB1', 'MMP/SB2', 'MMP/SB3', 'MMP/SB4', #Middle Middle Pixel Spectral Band\n",
    "             'MRP/SB1', 'MRP/SB2', 'MRP/SB3', 'MRP/SB4', #Middle Right Pixel Spectral Band\n",
    "             \n",
    "             'BLP/SB1', 'BLP/SB2', 'BLP/SB3', 'BLP/SB4', #Bottom Left Pixel Spectral Band\n",
    "             'BMP/SB1', 'BMP/SB2', 'BMP/SB3', 'BMP/SB4', #Bottom Middle Pixel Spectral Band\n",
    "             'BRP/SB1', 'BRP/SB2', 'BRP/SB3', 'BRP/SB4', #Bottom Right Pixel Spectral Band\n",
    "              \n",
    "              'Class'\n",
    "            ]"
   ]
  },
  {
   "cell_type": "code",
   "execution_count": 108,
   "metadata": {},
   "outputs": [],
   "source": [
    "# Convert the last columns class from number to the soil type corresponding and add a new columns with this soil type\n",
    "soilType = {1: \"Red soil\",\n",
    "           2: \"Cotton crop\",\n",
    "           3: \"Grey soil\",\n",
    "           4: \"Damp grey soil\",\n",
    "           5: \"Soil with vegetation stubble\",\n",
    "           6: \"Mixture class (all types present)\",\n",
    "           7: \"Very damp grey soil\"}\n",
    "df[\"Soil_Type\"] = df[\"Class\"]\n",
    "df[\"Soil_Type\"] = df.Class.map(soilType)"
   ]
  },
  {
   "cell_type": "code",
   "execution_count": 109,
   "metadata": {},
   "outputs": [
    {
     "data": {
      "text/plain": [
       "Index(['TLP/SB1', 'TLP/SB2', 'TLP/SB3', 'TLP/SB4', 'TMP/SB1', 'TMP/SB2',\n",
       "       'TMP/SB3', 'TMP/SB4', 'TRP/SB1', 'TRP/SB2', 'TRP/SB3', 'TRP/SB4',\n",
       "       'MLP/SB1', 'MLP/SB2', 'MLP/SB3', 'MLP/SB4', 'MMP/SB1', 'MMP/SB2',\n",
       "       'MMP/SB3', 'MMP/SB4', 'MRP/SB1', 'MRP/SB2', 'MRP/SB3', 'MRP/SB4',\n",
       "       'BLP/SB1', 'BLP/SB2', 'BLP/SB3', 'BLP/SB4', 'BMP/SB1', 'BMP/SB2',\n",
       "       'BMP/SB3', 'BMP/SB4', 'BRP/SB1', 'BRP/SB2', 'BRP/SB3', 'BRP/SB4',\n",
       "       'Class', 'Soil_Type'],\n",
       "      dtype='object')"
      ]
     },
     "execution_count": 109,
     "metadata": {},
     "output_type": "execute_result"
    }
   ],
   "source": [
    "# See all columns name\n",
    "df.columns\n",
    "\n",
    "#We can remark that the column have been well rename and our new column \"Soil_Type\" well implemented"
   ]
  },
  {
   "cell_type": "code",
   "execution_count": 110,
   "metadata": {},
   "outputs": [
    {
     "data": {
      "text/plain": [
       "TLP/SB1       int64\n",
       "TLP/SB2       int64\n",
       "TLP/SB3       int64\n",
       "TLP/SB4       int64\n",
       "TMP/SB1       int64\n",
       "TMP/SB2       int64\n",
       "TMP/SB3       int64\n",
       "TMP/SB4       int64\n",
       "TRP/SB1       int64\n",
       "TRP/SB2       int64\n",
       "TRP/SB3       int64\n",
       "TRP/SB4       int64\n",
       "MLP/SB1       int64\n",
       "MLP/SB2       int64\n",
       "MLP/SB3       int64\n",
       "MLP/SB4       int64\n",
       "MMP/SB1       int64\n",
       "MMP/SB2       int64\n",
       "MMP/SB3       int64\n",
       "MMP/SB4       int64\n",
       "MRP/SB1       int64\n",
       "MRP/SB2       int64\n",
       "MRP/SB3       int64\n",
       "MRP/SB4       int64\n",
       "BLP/SB1       int64\n",
       "BLP/SB2       int64\n",
       "BLP/SB3       int64\n",
       "BLP/SB4       int64\n",
       "BMP/SB1       int64\n",
       "BMP/SB2       int64\n",
       "BMP/SB3       int64\n",
       "BMP/SB4       int64\n",
       "BRP/SB1       int64\n",
       "BRP/SB2       int64\n",
       "BRP/SB3       int64\n",
       "BRP/SB4       int64\n",
       "Class         int64\n",
       "Soil_Type    object\n",
       "dtype: object"
      ]
     },
     "execution_count": 110,
     "metadata": {},
     "output_type": "execute_result"
    }
   ],
   "source": [
    "#See all columns type\n",
    "df.dtypes\n",
    "\n",
    "#We remark that except the column Soil_Type all the other columns contains integer number data"
   ]
  },
  {
   "cell_type": "code",
   "execution_count": 111,
   "metadata": {},
   "outputs": [
    {
     "data": {
      "text/html": [
       "<div>\n",
       "<style scoped>\n",
       "    .dataframe tbody tr th:only-of-type {\n",
       "        vertical-align: middle;\n",
       "    }\n",
       "\n",
       "    .dataframe tbody tr th {\n",
       "        vertical-align: top;\n",
       "    }\n",
       "\n",
       "    .dataframe thead th {\n",
       "        text-align: right;\n",
       "    }\n",
       "</style>\n",
       "<table border=\"1\" class=\"dataframe\">\n",
       "  <thead>\n",
       "    <tr style=\"text-align: right;\">\n",
       "      <th></th>\n",
       "      <th>TLP/SB1</th>\n",
       "      <th>TLP/SB2</th>\n",
       "      <th>TLP/SB3</th>\n",
       "      <th>TLP/SB4</th>\n",
       "      <th>TMP/SB1</th>\n",
       "      <th>TMP/SB2</th>\n",
       "      <th>TMP/SB3</th>\n",
       "      <th>TMP/SB4</th>\n",
       "      <th>TRP/SB1</th>\n",
       "      <th>TRP/SB2</th>\n",
       "      <th>...</th>\n",
       "      <th>BMP/SB1</th>\n",
       "      <th>BMP/SB2</th>\n",
       "      <th>BMP/SB3</th>\n",
       "      <th>BMP/SB4</th>\n",
       "      <th>BRP/SB1</th>\n",
       "      <th>BRP/SB2</th>\n",
       "      <th>BRP/SB3</th>\n",
       "      <th>BRP/SB4</th>\n",
       "      <th>Class</th>\n",
       "      <th>Soil_Type</th>\n",
       "    </tr>\n",
       "  </thead>\n",
       "  <tbody>\n",
       "    <tr>\n",
       "      <th>0</th>\n",
       "      <td>92</td>\n",
       "      <td>115</td>\n",
       "      <td>120</td>\n",
       "      <td>94</td>\n",
       "      <td>84</td>\n",
       "      <td>102</td>\n",
       "      <td>106</td>\n",
       "      <td>79</td>\n",
       "      <td>84</td>\n",
       "      <td>102</td>\n",
       "      <td>...</td>\n",
       "      <td>88</td>\n",
       "      <td>121</td>\n",
       "      <td>128</td>\n",
       "      <td>100</td>\n",
       "      <td>84</td>\n",
       "      <td>107</td>\n",
       "      <td>113</td>\n",
       "      <td>87</td>\n",
       "      <td>3</td>\n",
       "      <td>Grey soil</td>\n",
       "    </tr>\n",
       "    <tr>\n",
       "      <th>1</th>\n",
       "      <td>84</td>\n",
       "      <td>102</td>\n",
       "      <td>106</td>\n",
       "      <td>79</td>\n",
       "      <td>84</td>\n",
       "      <td>102</td>\n",
       "      <td>102</td>\n",
       "      <td>83</td>\n",
       "      <td>80</td>\n",
       "      <td>102</td>\n",
       "      <td>...</td>\n",
       "      <td>84</td>\n",
       "      <td>107</td>\n",
       "      <td>113</td>\n",
       "      <td>87</td>\n",
       "      <td>84</td>\n",
       "      <td>99</td>\n",
       "      <td>104</td>\n",
       "      <td>79</td>\n",
       "      <td>3</td>\n",
       "      <td>Grey soil</td>\n",
       "    </tr>\n",
       "    <tr>\n",
       "      <th>2</th>\n",
       "      <td>84</td>\n",
       "      <td>102</td>\n",
       "      <td>102</td>\n",
       "      <td>83</td>\n",
       "      <td>80</td>\n",
       "      <td>102</td>\n",
       "      <td>102</td>\n",
       "      <td>79</td>\n",
       "      <td>84</td>\n",
       "      <td>94</td>\n",
       "      <td>...</td>\n",
       "      <td>84</td>\n",
       "      <td>99</td>\n",
       "      <td>104</td>\n",
       "      <td>79</td>\n",
       "      <td>84</td>\n",
       "      <td>99</td>\n",
       "      <td>104</td>\n",
       "      <td>79</td>\n",
       "      <td>3</td>\n",
       "      <td>Grey soil</td>\n",
       "    </tr>\n",
       "    <tr>\n",
       "      <th>3</th>\n",
       "      <td>80</td>\n",
       "      <td>102</td>\n",
       "      <td>102</td>\n",
       "      <td>79</td>\n",
       "      <td>84</td>\n",
       "      <td>94</td>\n",
       "      <td>102</td>\n",
       "      <td>79</td>\n",
       "      <td>80</td>\n",
       "      <td>94</td>\n",
       "      <td>...</td>\n",
       "      <td>84</td>\n",
       "      <td>99</td>\n",
       "      <td>104</td>\n",
       "      <td>79</td>\n",
       "      <td>84</td>\n",
       "      <td>103</td>\n",
       "      <td>104</td>\n",
       "      <td>79</td>\n",
       "      <td>3</td>\n",
       "      <td>Grey soil</td>\n",
       "    </tr>\n",
       "    <tr>\n",
       "      <th>4</th>\n",
       "      <td>84</td>\n",
       "      <td>94</td>\n",
       "      <td>102</td>\n",
       "      <td>79</td>\n",
       "      <td>80</td>\n",
       "      <td>94</td>\n",
       "      <td>98</td>\n",
       "      <td>76</td>\n",
       "      <td>80</td>\n",
       "      <td>102</td>\n",
       "      <td>...</td>\n",
       "      <td>84</td>\n",
       "      <td>103</td>\n",
       "      <td>104</td>\n",
       "      <td>79</td>\n",
       "      <td>79</td>\n",
       "      <td>107</td>\n",
       "      <td>109</td>\n",
       "      <td>87</td>\n",
       "      <td>3</td>\n",
       "      <td>Grey soil</td>\n",
       "    </tr>\n",
       "  </tbody>\n",
       "</table>\n",
       "<p>5 rows × 38 columns</p>\n",
       "</div>"
      ],
      "text/plain": [
       "   TLP/SB1  TLP/SB2  TLP/SB3  TLP/SB4  TMP/SB1  TMP/SB2  TMP/SB3  TMP/SB4  \\\n",
       "0       92      115      120       94       84      102      106       79   \n",
       "1       84      102      106       79       84      102      102       83   \n",
       "2       84      102      102       83       80      102      102       79   \n",
       "3       80      102      102       79       84       94      102       79   \n",
       "4       84       94      102       79       80       94       98       76   \n",
       "\n",
       "   TRP/SB1  TRP/SB2    ...      BMP/SB1  BMP/SB2  BMP/SB3  BMP/SB4  BRP/SB1  \\\n",
       "0       84      102    ...           88      121      128      100       84   \n",
       "1       80      102    ...           84      107      113       87       84   \n",
       "2       84       94    ...           84       99      104       79       84   \n",
       "3       80       94    ...           84       99      104       79       84   \n",
       "4       80      102    ...           84      103      104       79       79   \n",
       "\n",
       "   BRP/SB2  BRP/SB3  BRP/SB4  Class  Soil_Type  \n",
       "0      107      113       87      3  Grey soil  \n",
       "1       99      104       79      3  Grey soil  \n",
       "2       99      104       79      3  Grey soil  \n",
       "3      103      104       79      3  Grey soil  \n",
       "4      107      109       87      3  Grey soil  \n",
       "\n",
       "[5 rows x 38 columns]"
      ]
     },
     "execution_count": 111,
     "metadata": {},
     "output_type": "execute_result"
    }
   ],
   "source": [
    "#See a small part of our data\n",
    "df.head()"
   ]
  },
  {
   "cell_type": "markdown",
   "metadata": {},
   "source": [
    "## Visualization"
   ]
  },
  {
   "cell_type": "code",
   "execution_count": 1,
   "metadata": {},
   "outputs": [
    {
     "ename": "NameError",
     "evalue": "name 'df' is not defined",
     "output_type": "error",
     "traceback": [
      "\u001b[1;31m---------------------------------------------------------------------------\u001b[0m",
      "\u001b[1;31mNameError\u001b[0m                                 Traceback (most recent call last)",
      "\u001b[1;32m<ipython-input-1-ea8415b8a3ee>\u001b[0m in \u001b[0;36m<module>\u001b[1;34m\u001b[0m\n\u001b[1;32m----> 1\u001b[1;33m \u001b[0mdf\u001b[0m\u001b[1;33m.\u001b[0m\u001b[0mdescribe\u001b[0m\u001b[1;33m(\u001b[0m\u001b[1;33m)\u001b[0m\u001b[1;33m\u001b[0m\u001b[1;33m\u001b[0m\u001b[0m\n\u001b[0m",
      "\u001b[1;31mNameError\u001b[0m: name 'df' is not defined"
     ]
    }
   ],
   "source": [
    "df.describe()"
   ]
  },
  {
   "cell_type": "code",
   "execution_count": 114,
   "metadata": {},
   "outputs": [
    {
     "data": {
      "text/html": [
       "<div>\n",
       "<style scoped>\n",
       "    .dataframe tbody tr th:only-of-type {\n",
       "        vertical-align: middle;\n",
       "    }\n",
       "\n",
       "    .dataframe tbody tr th {\n",
       "        vertical-align: top;\n",
       "    }\n",
       "\n",
       "    .dataframe thead th {\n",
       "        text-align: right;\n",
       "    }\n",
       "</style>\n",
       "<table border=\"1\" class=\"dataframe\">\n",
       "  <thead>\n",
       "    <tr style=\"text-align: right;\">\n",
       "      <th></th>\n",
       "      <th>Soil_Type</th>\n",
       "      <th>counts</th>\n",
       "    </tr>\n",
       "  </thead>\n",
       "  <tbody>\n",
       "    <tr>\n",
       "      <th>0</th>\n",
       "      <td>Cotton crop</td>\n",
       "      <td>479</td>\n",
       "    </tr>\n",
       "    <tr>\n",
       "      <th>1</th>\n",
       "      <td>Damp grey soil</td>\n",
       "      <td>415</td>\n",
       "    </tr>\n",
       "    <tr>\n",
       "      <th>2</th>\n",
       "      <td>Grey soil</td>\n",
       "      <td>961</td>\n",
       "    </tr>\n",
       "    <tr>\n",
       "      <th>3</th>\n",
       "      <td>Red soil</td>\n",
       "      <td>1072</td>\n",
       "    </tr>\n",
       "    <tr>\n",
       "      <th>4</th>\n",
       "      <td>Soil with vegetation stubble</td>\n",
       "      <td>470</td>\n",
       "    </tr>\n",
       "    <tr>\n",
       "      <th>5</th>\n",
       "      <td>Very damp grey soil</td>\n",
       "      <td>1038</td>\n",
       "    </tr>\n",
       "  </tbody>\n",
       "</table>\n",
       "</div>"
      ],
      "text/plain": [
       "                      Soil_Type  counts\n",
       "0                   Cotton crop     479\n",
       "1                Damp grey soil     415\n",
       "2                     Grey soil     961\n",
       "3                      Red soil    1072\n",
       "4  Soil with vegetation stubble     470\n",
       "5           Very damp grey soil    1038"
      ]
     },
     "execution_count": 114,
     "metadata": {},
     "output_type": "execute_result"
    }
   ],
   "source": [
    "# See the repartition of soil type\n",
    "df.groupby([\"Soil_Type\"]).size().reset_index(name=\"counts\")\n",
    "\n",
    "#There is no data for \"Mixture class (all types present)\" and there is a lot more \"Grey soil\", \"Red Soil\" and \"Very damp grey soil\" than \n",
    "#\"Cotton crop\", \"Damp grey soil\" and \"Soil with vegetation\".\n",
    "#So, we can say that we will certainly have best result with this 3 soil type as we have more training data. \n",
    "#And this dataset will not allow us to predict \"Mixture class (all types present)\""
   ]
  },
  {
   "cell_type": "code",
   "execution_count": 128,
   "metadata": {},
   "outputs": [
    {
     "data": {
      "image/png": "[encoded data removed]",
      "text/plain": [
       "<Figure size 1440x1440 with 42 Axes>"
      ]
     },
     "metadata": {
      "needs_background": "light"
     },
     "output_type": "display_data"
    }
   ],
   "source": [
    "histogram = df.hist(figsize = (20,20))\n",
    "plt.show()"
   ]
  },
  {
   "cell_type": "markdown",
   "metadata": {},
   "source": [
    "## Modelization"
   ]
  },
  {
   "cell_type": "markdown",
   "metadata": {},
   "source": [
    "### Share the dataset into two different set : training and test set"
   ]
  },
  {
   "cell_type": "code",
   "execution_count": 117,
   "metadata": {},
   "outputs": [
    {
     "name": "stderr",
     "output_type": "stream",
     "text": [
      "C:\\ProgramData\\Anaconda3\\lib\\site-packages\\sklearn\\preprocessing\\data.py:625: DataConversionWarning: Data with input dtype int64 were all converted to float64 by StandardScaler.\n",
      "  return self.partial_fit(X, y)\n",
      "C:\\ProgramData\\Anaconda3\\lib\\site-packages\\ipykernel_launcher.py:7: DataConversionWarning: Data with input dtype int64 were all converted to float64 by StandardScaler.\n",
      "  import sys\n",
      "C:\\ProgramData\\Anaconda3\\lib\\site-packages\\ipykernel_launcher.py:8: DataConversionWarning: Data with input dtype int64 were all converted to float64 by StandardScaler.\n",
      "  \n"
     ]
    }
   ],
   "source": [
    "data = df.drop({\"Class\", \"Soil_Type\"}, axis=\"columns\") #Data without class features\n",
    "sol = df[\"Class\"] #Class features of X\n",
    "\n",
    "data_train, data_test, sol_train, sol_test = train_test_split(data, sol, test_size=0.25)\n",
    "scaler = StandardScaler()\n",
    "scaler.fit(data_train)\n",
    "data_train = scaler.transform(data_train)\n",
    "data_test = scaler.transform(data_test)"
   ]
  },
  {
   "cell_type": "markdown",
   "metadata": {},
   "source": [
    "### Try different algorithm"
   ]
  },
  {
   "cell_type": "code",
   "execution_count": 118,
   "metadata": {},
   "outputs": [],
   "source": [
    "# Create a dictionnary for store the result of our algorithms\n",
    "models_Fitting = {}"
   ]
  },
  {
   "cell_type": "code",
   "execution_count": 119,
   "metadata": {},
   "outputs": [],
   "source": [
    "# Decision Tree Classifier\n",
    "model = DecisionTreeClassifier().fit(data_train, sol_train)\n",
    "models_Fitting['Decision Tree Classifier'] = model.score(data_test, sol_test)"
   ]
  },
  {
   "cell_type": "code",
   "execution_count": 120,
   "metadata": {},
   "outputs": [],
   "source": [
    "# Gaussian Naive Bayes\n",
    "model2 = GaussianNB().fit(data_train, sol_train)\n",
    "models_Fitting['Gaussian Naive Bayes'] = model2.score(data_test, sol_test)"
   ]
  },
  {
   "cell_type": "code",
   "execution_count": 121,
   "metadata": {},
   "outputs": [
    {
     "name": "stderr",
     "output_type": "stream",
     "text": [
      "C:\\ProgramData\\Anaconda3\\lib\\site-packages\\sklearn\\ensemble\\forest.py:246: FutureWarning: The default value of n_estimators will change from 10 in version 0.20 to 100 in 0.22.\n",
      "  \"10 in version 0.20 to 100 in 0.22.\", FutureWarning)\n"
     ]
    }
   ],
   "source": [
    "# Random Forest Tree\n",
    "model3 = RandomForestRegressor().fit(data_train, sol_train)\n",
    "models_Fitting['Random Forest Tree'] = model3.score(data_test, sol_test)"
   ]
  },
  {
   "cell_type": "code",
   "execution_count": 122,
   "metadata": {},
   "outputs": [],
   "source": [
    "# Epsilon-Support Vector Regression\n",
    "model4 = svm.SVR().fit(data_train, sol_train)\n",
    "models_Fitting['Epsilon-Support Vector Regression'] = model4.score(data_test, sol_test)"
   ]
  },
  {
   "cell_type": "code",
   "execution_count": 123,
   "metadata": {},
   "outputs": [],
   "source": [
    "# Kmeans\n",
    "model5 = KMeans(n_clusters=6).fit(data_train, sol_train)\n",
    "models_Fitting['KMeans'] = accuracy_score(sol_test, model5.predict(data_test))"
   ]
  },
  {
   "cell_type": "code",
   "execution_count": 124,
   "metadata": {},
   "outputs": [],
   "source": [
    "#Change the hyperparameters"
   ]
  },
  {
   "cell_type": "code",
   "execution_count": 125,
   "metadata": {},
   "outputs": [
    {
     "data": {
      "text/html": [
       "<div>\n",
       "<style scoped>\n",
       "    .dataframe tbody tr th:only-of-type {\n",
       "        vertical-align: middle;\n",
       "    }\n",
       "\n",
       "    .dataframe tbody tr th {\n",
       "        vertical-align: top;\n",
       "    }\n",
       "\n",
       "    .dataframe thead th {\n",
       "        text-align: right;\n",
       "    }\n",
       "</style>\n",
       "<table border=\"1\" class=\"dataframe\">\n",
       "  <thead>\n",
       "    <tr style=\"text-align: right;\">\n",
       "      <th></th>\n",
       "      <th>Accuracy</th>\n",
       "    </tr>\n",
       "  </thead>\n",
       "  <tbody>\n",
       "    <tr>\n",
       "      <th>Decision Tree Classifier</th>\n",
       "      <td>0.862038</td>\n",
       "    </tr>\n",
       "    <tr>\n",
       "      <th>Gaussian Naive Bayes</th>\n",
       "      <td>0.806132</td>\n",
       "    </tr>\n",
       "    <tr>\n",
       "      <th>Random Forest Tree</th>\n",
       "      <td>0.887356</td>\n",
       "    </tr>\n",
       "    <tr>\n",
       "      <th>Epsilon-Support Vector Regression</th>\n",
       "      <td>0.867891</td>\n",
       "    </tr>\n",
       "    <tr>\n",
       "      <th>KMeans</th>\n",
       "      <td>0.102795</td>\n",
       "    </tr>\n",
       "  </tbody>\n",
       "</table>\n",
       "</div>"
      ],
      "text/plain": [
       "                                   Accuracy\n",
       "Decision Tree Classifier           0.862038\n",
       "Gaussian Naive Bayes               0.806132\n",
       "Random Forest Tree                 0.887356\n",
       "Epsilon-Support Vector Regression  0.867891\n",
       "KMeans                             0.102795"
      ]
     },
     "execution_count": 125,
     "metadata": {},
     "output_type": "execute_result"
    }
   ],
   "source": [
    "#Display the plot which compare the result of the different algorythm\n",
    "df_models = pd.DataFrame.from_dict(models_Fitting, orient = 'index', columns = ['Accuracy'])\n",
    "df_models"
   ]
  },
  {
   "cell_type": "code",
   "execution_count": 126,
   "metadata": {},
   "outputs": [
    {
     "data": {
      "image/png": "[encoded data removed]",
      "text/plain": [
       "<Figure size 432x288 with 1 Axes>"
      ]
     },
     "metadata": {
      "needs_background": "light"
     },
     "output_type": "display_data"
    }
   ],
   "source": [
    "df_sorted = df_models.sort_values('Accuracy')\n",
    "plot = df_sorted.plot.bar()\n",
    "plt.show()"
   ]
  }
 ],
 "metadata": {
  "kernelspec": {
   "display_name": "Python 3",
   "language": "python",
   "name": "python3"
  },
  "language_info": {
   "codemirror_mode": {
    "name": "ipython",
    "version": 3
   },
   "file_extension": ".py",
   "mimetype": "text/x-python",
   "name": "python",
   "nbconvert_exporter": "python",
   "pygments_lexer": "ipython3",
   "version": "3.7.1"
  }
 },
 "nbformat": 4,
 "nbformat_minor": 2
}
